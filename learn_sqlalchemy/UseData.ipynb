{
 "cells": [
  {
   "cell_type": "markdown",
   "id": "8ac2c411-650a-416a-83e4-a55aa7a27b31",
   "metadata": {},
   "source": [
    "# 使用ORM操作数据\n",
    "\n",
    "[原文](https://docs.sqlalchemy.org/en/20/tutorial/data.html)\n",
    "\n",
    "在使用事务和 DBAPI 中，我们了解了如何与 Python DBAPI 及其事务状态进行交互的基础知识。 然后，在使用数据库元数据中，我们学习了如何使用元数据和相关对象在 SQLAlchemy 中表示数据库表、列和约束。 在本节中，我们将结合上述两个概念在关系数据库中创建、选择和操作数据。 我们与数据库的交互总是在事务方面，即使我们已经将数据库驱动程序设置为在后台使用自动提交。\n",
    "\n",
    "- INSERT： 为了将一些数据输入数据库，我们介绍并演示了核心插入构造。从ORM角度来看，在下一部分使用ORM的数据操作中描述了插入。\n",
    "\n",
    "- SELECT：描述Select构造，这是SQLalchemy中最常用的对象。选择核心和以ORM为中心的应用程序的SELECT构造发出的选择语句，这两个用例将在此处描述。在后面的部分中还使用查询中的关系以及ORM查询指南中的其他ORM用例。\n",
    "\n",
    "- UPDATE && DELETE：从 Core 的角度描述 Update 和 Delete 构造的使用。ORM 特定的 UPDATE 和 DELETE 在数据操作中与 ORM 部分类似地进行了描述。"
   ]
  },
  {
   "cell_type": "code",
   "execution_count": 2,
   "id": "89819779-2f9c-4a4e-9779-446c42adc60f",
   "metadata": {
    "tags": []
   },
   "outputs": [
    {
     "name": "stdout",
     "output_type": "stream",
     "text": [
      "2023-06-01 11:58:52,888 INFO sqlalchemy.engine.Engine BEGIN (implicit)\n",
      "2023-06-01 11:58:52,889 INFO sqlalchemy.engine.Engine PRAGMA main.table_info(\"user_account\")\n",
      "2023-06-01 11:58:52,890 INFO sqlalchemy.engine.Engine [raw sql] ()\n",
      "2023-06-01 11:58:52,892 INFO sqlalchemy.engine.Engine PRAGMA temp.table_info(\"user_account\")\n",
      "2023-06-01 11:58:52,893 INFO sqlalchemy.engine.Engine [raw sql] ()\n",
      "2023-06-01 11:58:52,895 INFO sqlalchemy.engine.Engine PRAGMA main.table_info(\"address\")\n",
      "2023-06-01 11:58:52,895 INFO sqlalchemy.engine.Engine [raw sql] ()\n",
      "2023-06-01 11:58:52,898 INFO sqlalchemy.engine.Engine PRAGMA temp.table_info(\"address\")\n",
      "2023-06-01 11:58:52,900 INFO sqlalchemy.engine.Engine [raw sql] ()\n",
      "2023-06-01 11:58:52,901 INFO sqlalchemy.engine.Engine PRAGMA main.table_info(\"some_table\")\n",
      "2023-06-01 11:58:52,902 INFO sqlalchemy.engine.Engine [raw sql] ()\n",
      "2023-06-01 11:58:52,903 INFO sqlalchemy.engine.Engine PRAGMA temp.table_info(\"some_table\")\n",
      "2023-06-01 11:58:52,904 INFO sqlalchemy.engine.Engine [raw sql] ()\n",
      "2023-06-01 11:58:52,906 INFO sqlalchemy.engine.Engine \n",
      "CREATE TABLE user_account (\n",
      "\tid INTEGER NOT NULL, \n",
      "\tname VARCHAR(30) NOT NULL, \n",
      "\tfullname VARCHAR, \n",
      "\tPRIMARY KEY (id)\n",
      ")\n",
      "\n",
      "\n",
      "2023-06-01 11:58:52,907 INFO sqlalchemy.engine.Engine [no key 0.00094s] ()\n",
      "2023-06-01 11:58:52,908 INFO sqlalchemy.engine.Engine \n",
      "CREATE TABLE some_table (\n",
      "\tx INTEGER, \n",
      "\ty INTEGER, \n",
      "\tPRIMARY KEY (x)\n",
      ")\n",
      "\n",
      "\n",
      "2023-06-01 11:58:52,909 INFO sqlalchemy.engine.Engine [no key 0.00101s] ()\n",
      "2023-06-01 11:58:52,911 INFO sqlalchemy.engine.Engine \n",
      "CREATE TABLE address (\n",
      "\tid INTEGER NOT NULL, \n",
      "\temail_address VARCHAR NOT NULL, \n",
      "\tuser_id INTEGER, \n",
      "\ttest VARCHAR NOT NULL, \n",
      "\tPRIMARY KEY (id), \n",
      "\tFOREIGN KEY(user_id) REFERENCES user_account (id)\n",
      ")\n",
      "\n",
      "\n",
      "2023-06-01 11:58:52,912 INFO sqlalchemy.engine.Engine [no key 0.00101s] ()\n",
      "2023-06-01 11:58:52,913 INFO sqlalchemy.engine.Engine COMMIT\n"
     ]
    }
   ],
   "source": [
    "# 数据准备\n",
    "from sqlalchemy import create_engine\n",
    "from sqlalchemy import text\n",
    "from sqlalchemy import ForeignKey\n",
    "from sqlalchemy import Table, Column, Integer, String\n",
    "\n",
    "from typing import List\n",
    "from typing import Optional\n",
    "from sqlalchemy.orm import Mapped\n",
    "from sqlalchemy.orm import mapped_column\n",
    "from sqlalchemy.orm import relationship\n",
    "\n",
    "from sqlalchemy.orm import DeclarativeBase\n",
    "\n",
    "class Base(DeclarativeBase):  # 创建一个基类， 其他表的声明继承这个基类实现\n",
    "    pass\n",
    "\n",
    "class User(Base):\n",
    "    __tablename__ = \"user_account\"\n",
    "    id: Mapped[int] = mapped_column(primary_key=True)\n",
    "    name: Mapped[str] = mapped_column(String(30))\n",
    "    fullname: Mapped[Optional[str]]\n",
    "    addresses: Mapped[List[\"Address\"]] = relationship(back_populates=\"user\")\n",
    "    def __repr__(self) -> str:\n",
    "        return f\"User(id={self.id!r}, name={self.name!r}, fullname={self.fullname!r})\"\n",
    "\n",
    "class Address(Base):\n",
    "    __tablename__ = \"address\"\n",
    "    id: Mapped[int] = mapped_column(primary_key=True)\n",
    "    email_address: Mapped[str]\n",
    "    user_id = mapped_column(ForeignKey(\"user_account.id\"))\n",
    "    user: Mapped[User] = relationship(back_populates=\"addresses\")\n",
    "    test: Mapped[str]\n",
    "    def __repr__(self) -> str:\n",
    "        return f\"Address(id={self.id!r}, email_address={self.email_address!r})\"\n",
    "\n",
    "class SomeTable(Base):\n",
    "    __tablename__ = \"some_table\"\n",
    "    \n",
    "    x: Mapped[int] = mapped_column(nullable=True, primary_key=True)\n",
    "    y: Mapped[int] = mapped_column(nullable=True)\n",
    "\n",
    "user_table = User\n",
    "address_table = Address\n",
    "some_table = SomeTable\n",
    "\n",
    "\n",
    "engine = create_engine(\"sqlite+pysqlite:///:memory:\", echo=True)\n",
    "Base.metadata.create_all(engine)"
   ]
  },
  {
   "cell_type": "markdown",
   "id": "00694652-1607-4853-ba3a-bcbdc4d55ed8",
   "metadata": {
    "tags": []
   },
   "source": [
    "## INSERT 使用\n",
    "\n",
    "使用 insert 方法构造SQL INSERT语句\n",
    "\n",
    "插入的一个简单示例同时说明了目标表和 VALUES 子句:\n",
    "\n",
    "大多数 SQL 表达式都可以在适当的位置进行字符串化，作为查看所产生内容的一般形式的一种手段:"
   ]
  },
  {
   "cell_type": "code",
   "execution_count": 3,
   "id": "1d3a2c3f-6cf2-4269-a997-c7f57a02f432",
   "metadata": {
    "tags": []
   },
   "outputs": [
    {
     "name": "stdout",
     "output_type": "stream",
     "text": [
      "INSERT INTO user_account (name, fullname) VALUES (:name, :fullname)\n",
      "INSERT INTO user_account (name, fullname) VALUES (:name, :fullname)\n"
     ]
    }
   ],
   "source": [
    "from sqlalchemy import insert\n",
    "stmt = insert(user_table).values(name=\"spongebob\", fullname=\"Spongebob Squarepants\")\n",
    "print(stmt)\n",
    "print(stmt.compile())"
   ]
  },
  {
   "cell_type": "markdown",
   "id": "c038db0f-2d32-4fa0-b969-962fd3a315df",
   "metadata": {},
   "source": [
    "我们的 Insert 结构是一个“参数化”结构的例子，前面在发送参数中进行了说明; 要查看名称和全名绑定参数，这些也可以从已编译的结构中获得:"
   ]
  },
  {
   "cell_type": "code",
   "execution_count": 4,
   "id": "1cb5610c-cff3-42bb-95ed-78927cddc325",
   "metadata": {
    "tags": []
   },
   "outputs": [
    {
     "data": {
      "text/plain": [
       "{'name': 'spongebob', 'fullname': 'Spongebob Squarepants'}"
      ]
     },
     "execution_count": 4,
     "metadata": {},
     "output_type": "execute_result"
    }
   ],
   "source": [
    "stmt.compile().params"
   ]
  },
  {
   "cell_type": "markdown",
   "id": "8ae8f89b-2d5f-47ba-91ae-2c97a7676762",
   "metadata": {
    "tags": []
   },
   "source": [
    "### 执行声明语句\n",
    "\n",
    "调用语句时，我们可以将一行插入 user_table。在 SQL 日志中可以看到 INSERT SQL 以及绑定的参数:"
   ]
  },
  {
   "cell_type": "code",
   "execution_count": 5,
   "id": "020965b1-8c7f-4b07-92b1-71385b464dde",
   "metadata": {
    "tags": []
   },
   "outputs": [
    {
     "name": "stdout",
     "output_type": "stream",
     "text": [
      "2023-06-01 11:58:52,974 INFO sqlalchemy.engine.Engine BEGIN (implicit)\n",
      "2023-06-01 11:58:52,977 INFO sqlalchemy.engine.Engine INSERT INTO user_account (name, fullname) VALUES (?, ?)\n",
      "2023-06-01 11:58:52,979 INFO sqlalchemy.engine.Engine [generated in 0.00419s] ('spongebob', 'Spongebob Squarepants')\n",
      "2023-06-01 11:58:52,980 INFO sqlalchemy.engine.Engine COMMIT\n"
     ]
    }
   ],
   "source": [
    "with engine.connect() as conn:\n",
    "    result = conn.execute(stmt)\n",
    "    conn.commit()"
   ]
  },
  {
   "cell_type": "markdown",
   "id": "b7563bad-9a67-4032-9caf-a2dd391c7b7e",
   "metadata": {},
   "source": [
    "在上面的简单形式中，INSERT 语句不返回任何行，如果只插入一行，它通常包含返回有关该行在 INSERT 期间生成的列级默认值的信息的能力，最常见的是一个整数主键值。在上述情况下，SQLite 数据库中的第一行通常会为第一个整数主键值返回1，我们可以使用 CursorResult.insert _ 置入主键访问器获取该值:"
   ]
  },
  {
   "cell_type": "code",
   "execution_count": 6,
   "id": "fd7d3879-070c-4192-a7c8-ca1f2fa6a1e0",
   "metadata": {
    "tags": []
   },
   "outputs": [
    {
     "data": {
      "text/plain": [
       "(1,)"
      ]
     },
     "execution_count": 6,
     "metadata": {},
     "output_type": "execute_result"
    }
   ],
   "source": [
    "result.inserted_primary_key"
   ]
  },
  {
   "cell_type": "markdown",
   "id": "7604f8a1-c5b5-4767-bcaa-683a69b3e396",
   "metadata": {},
   "source": [
    "可能由多个主键，所以这是一个元组。"
   ]
  },
  {
   "cell_type": "markdown",
   "id": "7aff55c3-38ec-4e2c-9015-3e650c00fbe7",
   "metadata": {
    "tags": []
   },
   "source": [
    "### INSERT 通常自动生成“ value”子句\n",
    "\n",
    "上面的示例使用 INSERT.VALUES ()方法显式创建 SQL INSERT 语句的 VALUES 子句。如果我们实际上没有使用 INSERT.values () ，而只是打印出一个“空”语句，那么对于表中的每一列，我们都会得到一个 INSERT:\n",
    "\n",
    "如果我们采用一个没有`insert.values（）`调用并执行它而不是打印的插入构造，则该语句将根据我们传递给`Connection.execute.execute（）`方法，并且仅包括与通过参数相关的列。实际上，这是插入用来插入行而无需输入显式值子句的通常方式。下面的示例说明了一个两列插入语句正在执行使用参数列表执行：\n"
   ]
  },
  {
   "cell_type": "code",
   "execution_count": 7,
   "id": "9786de5e-91f1-438f-9d17-b8a658e2f85e",
   "metadata": {
    "tags": []
   },
   "outputs": [
    {
     "name": "stdout",
     "output_type": "stream",
     "text": [
      "2023-06-01 11:58:53,023 INFO sqlalchemy.engine.Engine BEGIN (implicit)\n",
      "2023-06-01 11:58:53,024 INFO sqlalchemy.engine.Engine INSERT INTO user_account (name, fullname) VALUES (?, ?)\n",
      "2023-06-01 11:58:53,025 INFO sqlalchemy.engine.Engine [generated in 0.00268s] [('sandy', 'Sandy Cheeks'), ('patrick', 'Patrick Star')]\n",
      "2023-06-01 11:58:53,026 INFO sqlalchemy.engine.Engine COMMIT\n"
     ]
    }
   ],
   "source": [
    "with engine.connect() as conn:\n",
    "    result = conn.execute(\n",
    "        insert(user_table),\n",
    "        [\n",
    "            {\"name\": \"sandy\", \"fullname\": \"Sandy Cheeks\"},\n",
    "            {\"name\": \"patrick\", \"fullname\": \"Patrick Star\"},\n",
    "        ],\n",
    "    )\n",
    "    conn.commit()"
   ]
  },
  {
   "cell_type": "markdown",
   "id": "3f7c900d-e486-4723-9f30-a6bd85f287cb",
   "metadata": {},
   "source": [
    "上面的执行具有“executemany”形式，首先在发送多个参数中进行了说明，但是与使用 text() 构造时不同的是，我们不必拼出任何 SQL。 通过将字典或字典列表与 Insert 构造一起传递给 Connection.execute() 方法，Connection 确保传递的列名将自动在 Insert 构造的 VALUES 子句中表达。"
   ]
  },
  {
   "cell_type": "markdown",
   "id": "87b3d5b4-8fc9-40f7-979a-3ccd35295aa3",
   "metadata": {},
   "source": [
    "### 高级用法\n",
    "\n",
    "以下是一个更高级的示例，说明了如何明确使用`insert.values（）`方法，同时包括从参数生成的其他值。构建了标量子查询，利用下一节中引入的`select（）`构造，并使用使用`BindParam（）`构造建立的显式绑定参数名称进行了子查询中使用的参数。\n",
    "\n"
   ]
  },
  {
   "cell_type": "markdown",
   "id": "0ba320b7-030c-4bba-8093-079d92a39ca3",
   "metadata": {},
   "source": [
    "### INSERT…RETURNING\n",
    "\n",
    "支持后端的返回子句自动使用，以检索最后插入的主要键值以及服务器默认值的值。但是，也可以使用insert.turn.turning（）方法明确指定返回子句；在这种情况下，执行语句后返回的结果对象具有可以获取的行："
   ]
  },
  {
   "cell_type": "code",
   "execution_count": 8,
   "id": "b965905e-8a22-49b7-8106-7ab0a30f6e88",
   "metadata": {
    "tags": []
   },
   "outputs": [
    {
     "name": "stdout",
     "output_type": "stream",
     "text": [
      "INSERT INTO address (id, email_address, user_id, test) VALUES (:id, :email_address, :user_id, :test) RETURNING address.id, address.email_address\n"
     ]
    }
   ],
   "source": [
    "insert_stmt = insert(address_table).returning(\n",
    "    address_table.id, address_table.email_address\n",
    ")\n",
    "print(insert_stmt)"
   ]
  },
  {
   "cell_type": "markdown",
   "id": "a693836b-8d73-4932-81cf-88239b059e4a",
   "metadata": {},
   "source": [
    "它还可以与 INSERT.FROM _ SELECT ()组合，如下面的示例所示，该示例构建在 INSERT... FROM SELECT:"
   ]
  },
  {
   "cell_type": "code",
   "execution_count": 9,
   "id": "ee6a7578-6930-4738-a657-42bcd23da1ef",
   "metadata": {
    "tags": []
   },
   "outputs": [
    {
     "name": "stdout",
     "output_type": "stream",
     "text": [
      "INSERT INTO address (user_id, email_address) SELECT user_account.id, user_account.name || :name_1 AS anon_1 \n",
      "FROM user_account RETURNING address.id, address.email_address\n"
     ]
    }
   ],
   "source": [
    "from sqlalchemy import select\n",
    "select_stmt = select(user_table.id, user_table.name + \"@aol.com\")\n",
    "insert_stmt = insert(address_table).from_select(\n",
    "    [\"user_id\", \"email_address\"], select_stmt\n",
    ")\n",
    "print(insert_stmt.returning(address_table.id, address_table.email_address))"
   ]
  },
  {
   "cell_type": "markdown",
   "id": "3d151840-b1ae-4a1d-abe6-c33c804f5f78",
   "metadata": {},
   "source": [
    "> UPDATE 和 DELETE 语句也支持 RETURING 特性，这些语句将在本教程后面介绍。\n",
    "> 对于 INSERT 语句，可以对单行语句和同时对多行进行 INSERT 的语句使用 RETURING 特性。\n",
    "> 支持带有 RETURING 的多行 INSERT 是方言特有的，但是支持 SQLAlchemy 中包含的所有支持 RETURING 的方言。\n",
    "> 有关此特性的背景信息，请参阅 INSERT 语句的“插入多个值”行为一节。"
   ]
  },
  {
   "cell_type": "markdown",
   "id": "b7b155b5-0c5b-4e59-9de8-fac849c0cd57",
   "metadata": {},
   "source": [
    "### INSERT…FROM SELECT\n",
    "\n",
    "INSERT 的一个较少使用的特性，但是为了完整起见，INSERT 构造可以组成一个 INSERT，它使用 INSERT.from _ SELECT ()方法直接从 SELECT 获取行。\n",
    "此方法接受 select ()构造，下一节将讨论该构造，以及实际 INSERT 中要针对的列名列表。在下面的例子中，行被添加到地址表中，这些行是从 user _ account 表中的行派生出来的，为每个用户提供了 aol.com 上的免费电子邮件地址:\n",
    "\n"
   ]
  },
  {
   "cell_type": "code",
   "execution_count": 10,
   "id": "78e9c3bd-66c0-41c2-8343-6ae1f0c8fb61",
   "metadata": {
    "tags": []
   },
   "outputs": [
    {
     "name": "stdout",
     "output_type": "stream",
     "text": [
      "INSERT INTO address (user_id, email_address) SELECT user_account.id, user_account.name || :name_1 AS anon_1 \n",
      "FROM user_account\n"
     ]
    }
   ],
   "source": [
    "select_stmt = select(user_table.id, user_table.name + \"@aol.com\")\n",
    "insert_stmt = insert(address_table).from_select(\n",
    "    [\"user_id\", \"email_address\"], select_stmt\n",
    ")\n",
    "print(insert_stmt)"
   ]
  },
  {
   "cell_type": "markdown",
   "id": "aa7e1bf5-a3c3-4887-b5c4-3a1cb38f2be0",
   "metadata": {
    "tags": []
   },
   "source": [
    "当需要将数据从数据库的某个其他部分直接复制到一组新的行中时，不需要从客户机实际获取和重新发送数据，就可以使用此构造。"
   ]
  },
  {
   "cell_type": "markdown",
   "id": "797431d2-de2d-4c19-bf66-de055c86863c",
   "metadata": {},
   "source": [
    "## 使用 SELECT 语句\n",
    "\n",
    "对于 Core 和 ORM，select()函数生成一个 SELECT 构造，用于所有 SELECT 查询。\n",
    "传递给 Core 中的 Connection.execute()和 ORM 中的 Session.execute()等方法时，会在当前事务中发出一条 SELECT 语句，并通过返回的 Result 对象提供结果行。\n",
    "\n"
   ]
  },
  {
   "cell_type": "markdown",
   "id": "862ccc31-1298-412d-9c3c-439ee121dd69",
   "metadata": {},
   "source": [
    "### The select() SQL Expression Construct¶\n",
    "\n",
    "select()构造使用与 insert()构造相同的方式构建语句，使用一种生成方法，其中每个方法在对象上构建更多的状态。\n",
    "与其他 SQL 构造一样，它可以在适当的位置进行字符串化:"
   ]
  },
  {
   "cell_type": "code",
   "execution_count": 11,
   "id": "ad98d6df-1d46-446c-bcdf-a4e8b9e4d15f",
   "metadata": {
    "tags": []
   },
   "outputs": [
    {
     "name": "stdout",
     "output_type": "stream",
     "text": [
      "SELECT user_account.id, user_account.name, user_account.fullname \n",
      "FROM user_account \n",
      "WHERE user_account.name = :name_1\n"
     ]
    }
   ],
   "source": [
    "from sqlalchemy import select\n",
    "stmt = select(user_table).where(user_table.name == \"spongebob\")\n",
    "print(stmt)\n"
   ]
  },
  {
   "cell_type": "markdown",
   "id": "bc0621ee-bdf7-449d-a86d-bd47d52769c7",
   "metadata": {},
   "source": [
    "与所有其他语句级 SQL 构造一样，为了实际运行语句，我们将其传递给一个执行方法。\n",
    "因为 SELECT 语句返回行，所以我们总是可以迭代结果对象来返回 Row 对象:\n"
   ]
  },
  {
   "cell_type": "code",
   "execution_count": 12,
   "id": "5b01b6b2-7531-4533-afad-cc0bd46b5679",
   "metadata": {
    "tags": []
   },
   "outputs": [
    {
     "name": "stdout",
     "output_type": "stream",
     "text": [
      "2023-06-01 11:58:53,153 INFO sqlalchemy.engine.Engine BEGIN (implicit)\n",
      "2023-06-01 11:58:53,155 INFO sqlalchemy.engine.Engine SELECT user_account.id, user_account.name, user_account.fullname \n",
      "FROM user_account \n",
      "WHERE user_account.name = ?\n",
      "2023-06-01 11:58:53,156 INFO sqlalchemy.engine.Engine [generated in 0.00338s] ('spongebob',)\n",
      "(1, 'spongebob', 'Spongebob Squarepants')\n",
      "2023-06-01 11:58:53,157 INFO sqlalchemy.engine.Engine ROLLBACK\n"
     ]
    }
   ],
   "source": [
    "with engine.connect() as conn:\n",
    "    for row in conn.execute(stmt):\n",
    "        print(row)"
   ]
  },
  {
   "cell_type": "markdown",
   "id": "ecd7c1f2-85b1-4f46-a665-5eef8dbd597d",
   "metadata": {},
   "source": [
    "当使用 ORM 时，特别是使用一个针对 ORM 实体组成的 select ()结构时，我们将希望使用 Session 上的 Session.execute ()方法来执行它;\n",
    "使用这种方法，我们继续从结果中获取 Row 对象，但是这些行现在能够包含完整的实体，比如 User 类的实例，作为每一行中的单独元素:\n",
    "\n",
    "简单来说，使用Session 查询的结果将会直接被影射为Python对象。"
   ]
  },
  {
   "cell_type": "code",
   "execution_count": 13,
   "id": "28e7b648-8af5-4b89-b0ec-d401f57b85d3",
   "metadata": {
    "tags": []
   },
   "outputs": [
    {
     "name": "stdout",
     "output_type": "stream",
     "text": [
      "2023-06-01 11:58:53,175 INFO sqlalchemy.engine.Engine BEGIN (implicit)\n",
      "2023-06-01 11:58:53,178 INFO sqlalchemy.engine.Engine SELECT user_account.id, user_account.name, user_account.fullname \n",
      "FROM user_account \n",
      "WHERE user_account.name = ?\n",
      "2023-06-01 11:58:53,179 INFO sqlalchemy.engine.Engine [generated in 0.00131s] ('spongebob',)\n",
      "(User(id=1, name='spongebob', fullname='Spongebob Squarepants'),)\n",
      "2023-06-01 11:58:53,182 INFO sqlalchemy.engine.Engine ROLLBACK\n"
     ]
    }
   ],
   "source": [
    "from sqlalchemy.orm.session import Session\n",
    "\n",
    "stmt = select(User).where(User.name == \"spongebob\")\n",
    "with Session(engine) as session:\n",
    "    for row in session.execute(stmt):\n",
    "        print(row)"
   ]
  },
  {
   "cell_type": "markdown",
   "id": "20c128f1-dfe9-4313-bd6a-8af47e038115",
   "metadata": {},
   "source": [
    "> **从表与ORM类中select（）**  \n",
    ">\n",
    "> 虽然在这些例子中生成的 SQL 看起来是相同的，无论我们调用 `select(user_table)`还是 `select(User)` ，在更一般的情况下，它们不一定呈现相同的东西，因为一个 ORM 映射的类可能被映射到除了表之外的其他类型的\"selectables\"。针对 ORM 实体的 select()还指示 ORM 映射的实例应该在结果中返回，而从 Table 对象进行 SELECTing 时则不是这种情况。\n",
    "\n"
   ]
  },
  {
   "cell_type": "markdown",
   "id": "7afd5e84-5ed0-42d6-9efa-122c5093f175",
   "metadata": {},
   "source": [
    "### Setting the COLUMNS and FROM clause\n",
    "\n",
    "`select()`函数接受表示任意数量的 Column 和/或 Table 表达式的位置元素，以及范围广泛的兼容对象，这些对象被解析为一个 SQL 表达式列表，从中进行 SELECTed，并作为结果集中的列返回。这些元素还可以在更简单的情况下创建 FROM 子句，这是从传递的列和类似表的表达式中推断出来的:"
   ]
  },
  {
   "cell_type": "code",
   "execution_count": 14,
   "id": "02b842d6-1743-4eb3-b54b-2532edeb1f6d",
   "metadata": {
    "tags": []
   },
   "outputs": [
    {
     "name": "stdout",
     "output_type": "stream",
     "text": [
      "SELECT user_account.id, user_account.name, user_account.fullname \n",
      "FROM user_account\n"
     ]
    }
   ],
   "source": [
    "print(select(user_table))"
   ]
  },
  {
   "cell_type": "markdown",
   "id": "3d65a0b9-dd48-4e18-9289-d5d57092aa85",
   "metadata": {},
   "source": [
    "要使用 Core 方法从单个列中选择 SELECT，可以从 Table.c 访问器访问 Column 对象，并且可以直接发送; FROM 子句将被推断为由这些列表示的所有 Table 和其他 FromClar 对象的集合:\n",
    "\n"
   ]
  },
  {
   "cell_type": "code",
   "execution_count": 15,
   "id": "0d20da84-9a38-4325-8114-3e949d36fb49",
   "metadata": {
    "tags": []
   },
   "outputs": [
    {
     "name": "stdout",
     "output_type": "stream",
     "text": [
      "SELECT user_account.name, user_account.fullname \n",
      "FROM user_account\n"
     ]
    }
   ],
   "source": [
    "print(select(user_table.name, user_table.fullname))"
   ]
  },
  {
   "cell_type": "markdown",
   "id": "92944ef8-dc5f-4dee-8484-1507d3992fc3",
   "metadata": {},
   "source": [
    "或者，当使用任何 FromClause.c 集合(如 Table)时，可以使用字符串名称元组为 select ()指定多个列:\n",
    "\n",
    "注意：这只适用于 Table()构造的表对象。"
   ]
  },
  {
   "cell_type": "code",
   "execution_count": 16,
   "id": "bc08f295-26c8-48d7-b555-1a1973cf55b8",
   "metadata": {
    "tags": []
   },
   "outputs": [
    {
     "ename": "TypeError",
     "evalue": "<class '__main__.User'> is not a generic class",
     "output_type": "error",
     "traceback": [
      "\u001b[0;31m---------------------------------------------------------------------------\u001b[0m",
      "\u001b[0;31mTypeError\u001b[0m                                 Traceback (most recent call last)",
      "Cell \u001b[0;32mIn[16], line 1\u001b[0m\n\u001b[0;32m----> 1\u001b[0m \u001b[38;5;28mprint\u001b[39m(select(\u001b[43muser_table\u001b[49m\u001b[43m[\u001b[49m\u001b[38;5;124;43m\"\u001b[39;49m\u001b[38;5;124;43mname\u001b[39;49m\u001b[38;5;124;43m\"\u001b[39;49m\u001b[43m,\u001b[49m\u001b[43m \u001b[49m\u001b[38;5;124;43m\"\u001b[39;49m\u001b[38;5;124;43mfullname\u001b[39;49m\u001b[38;5;124;43m\"\u001b[39;49m\u001b[43m]\u001b[49m))\n",
      "File \u001b[0;32m/usr/local/python/3.10.4/lib/python3.10/typing.py:312\u001b[0m, in \u001b[0;36m_tp_cache.<locals>.decorator.<locals>.inner\u001b[0;34m(*args, **kwds)\u001b[0m\n\u001b[1;32m    310\u001b[0m \u001b[38;5;28;01mexcept\u001b[39;00m \u001b[38;5;167;01mTypeError\u001b[39;00m:\n\u001b[1;32m    311\u001b[0m     \u001b[38;5;28;01mpass\u001b[39;00m  \u001b[38;5;66;03m# All real errors (not unhashable args) are raised below.\u001b[39;00m\n\u001b[0;32m--> 312\u001b[0m \u001b[38;5;28;01mreturn\u001b[39;00m \u001b[43mfunc\u001b[49m\u001b[43m(\u001b[49m\u001b[38;5;241;43m*\u001b[39;49m\u001b[43margs\u001b[49m\u001b[43m,\u001b[49m\u001b[43m \u001b[49m\u001b[38;5;241;43m*\u001b[39;49m\u001b[38;5;241;43m*\u001b[39;49m\u001b[43mkwds\u001b[49m\u001b[43m)\u001b[49m\n",
      "File \u001b[0;32m/usr/local/python/3.10.4/lib/python3.10/typing.py:1344\u001b[0m, in \u001b[0;36mGeneric.__class_getitem__\u001b[0;34m(cls, params)\u001b[0m\n\u001b[1;32m   1342\u001b[0m         params \u001b[38;5;241m=\u001b[39m _prepare_paramspec_params(\u001b[38;5;28mcls\u001b[39m, params)\n\u001b[1;32m   1343\u001b[0m     \u001b[38;5;28;01melse\u001b[39;00m:\n\u001b[0;32m-> 1344\u001b[0m         \u001b[43m_check_generic\u001b[49m\u001b[43m(\u001b[49m\u001b[38;5;28;43mcls\u001b[39;49m\u001b[43m,\u001b[49m\u001b[43m \u001b[49m\u001b[43mparams\u001b[49m\u001b[43m,\u001b[49m\u001b[43m \u001b[49m\u001b[38;5;28;43mlen\u001b[39;49m\u001b[43m(\u001b[49m\u001b[38;5;28;43mcls\u001b[39;49m\u001b[38;5;241;43m.\u001b[39;49m\u001b[43m__parameters__\u001b[49m\u001b[43m)\u001b[49m\u001b[43m)\u001b[49m\n\u001b[1;32m   1345\u001b[0m \u001b[38;5;28;01mreturn\u001b[39;00m _GenericAlias(\u001b[38;5;28mcls\u001b[39m, params,\n\u001b[1;32m   1346\u001b[0m                      _typevar_types\u001b[38;5;241m=\u001b[39m(TypeVar, ParamSpec),\n\u001b[1;32m   1347\u001b[0m                      _paramspec_tvars\u001b[38;5;241m=\u001b[39m\u001b[38;5;28;01mTrue\u001b[39;00m)\n",
      "File \u001b[0;32m~/.local/lib/python3.10/site-packages/typing_extensions.py:97\u001b[0m, in \u001b[0;36m_check_generic\u001b[0;34m(cls, parameters, elen)\u001b[0m\n\u001b[1;32m     93\u001b[0m \u001b[38;5;250m\u001b[39m\u001b[38;5;124;03m\"\"\"Check correct count for parameters of a generic cls (internal helper).\u001b[39;00m\n\u001b[1;32m     94\u001b[0m \u001b[38;5;124;03mThis gives a nice error message in case of count mismatch.\u001b[39;00m\n\u001b[1;32m     95\u001b[0m \u001b[38;5;124;03m\"\"\"\u001b[39;00m\n\u001b[1;32m     96\u001b[0m \u001b[38;5;28;01mif\u001b[39;00m \u001b[38;5;129;01mnot\u001b[39;00m elen:\n\u001b[0;32m---> 97\u001b[0m     \u001b[38;5;28;01mraise\u001b[39;00m \u001b[38;5;167;01mTypeError\u001b[39;00m(\u001b[38;5;124mf\u001b[39m\u001b[38;5;124m\"\u001b[39m\u001b[38;5;132;01m{\u001b[39;00m\u001b[38;5;28mcls\u001b[39m\u001b[38;5;132;01m}\u001b[39;00m\u001b[38;5;124m is not a generic class\u001b[39m\u001b[38;5;124m\"\u001b[39m)\n\u001b[1;32m     98\u001b[0m \u001b[38;5;28;01mif\u001b[39;00m elen \u001b[38;5;129;01mis\u001b[39;00m _marker:\n\u001b[1;32m     99\u001b[0m     \u001b[38;5;28;01mif\u001b[39;00m \u001b[38;5;129;01mnot\u001b[39;00m \u001b[38;5;28mhasattr\u001b[39m(\u001b[38;5;28mcls\u001b[39m, \u001b[38;5;124m\"\u001b[39m\u001b[38;5;124m__parameters__\u001b[39m\u001b[38;5;124m\"\u001b[39m) \u001b[38;5;129;01mor\u001b[39;00m \u001b[38;5;129;01mnot\u001b[39;00m \u001b[38;5;28mcls\u001b[39m\u001b[38;5;241m.\u001b[39m__parameters__:\n",
      "\u001b[0;31mTypeError\u001b[0m: <class '__main__.User'> is not a generic class"
     ]
    }
   ],
   "source": [
    "print(select(user_table[\"name\", \"fullname\"]))"
   ]
  },
  {
   "cell_type": "markdown",
   "id": "6dfe16a4-48ff-4212-9e87-b45a4443491d",
   "metadata": {},
   "source": [
    "### Selecting ORM Entities and Columns¶\n",
    "\n",
    "ORM 实体，比如 User 类，以及它上面的列映射属性，比如 User.name，也参与到表示表和列的 SQL Expression Language 系统中。\n",
    "下面展示了一个来自 User 实体的 SELECTing 示例，它最终呈现的方式与直接使用 User_table 的方式相同:"
   ]
  },
  {
   "cell_type": "code",
   "execution_count": 17,
   "id": "c5090e91-6964-40f5-9f59-582ce4d54127",
   "metadata": {
    "tags": []
   },
   "outputs": [
    {
     "name": "stdout",
     "output_type": "stream",
     "text": [
      "SELECT user_account.id, user_account.name, user_account.fullname \n",
      "FROM user_account\n"
     ]
    }
   ],
   "source": [
    "print(select(User))"
   ]
  },
  {
   "cell_type": "markdown",
   "id": "64df73cf-9184-4616-9d02-45465d392dd8",
   "metadata": {},
   "source": [
    "当使用 ORM Session.execute ()方法执行上述语句时，与 User _ table 相比，从 User 这样的完整实体中进行选择有一个重要的区别，那就是实体本身在每行中作为单个元素返回。也就是说，当我们从上面的语句中获取行时，因为要获取的列表中只有 User 实体，所以我们返回只有一个元素的 Row 对象，它包含 User 类的实例:\n",
    "\n"
   ]
  },
  {
   "cell_type": "code",
   "execution_count": 18,
   "id": "f0b40b0d-5fce-4d39-ab35-8300dfdfba7e",
   "metadata": {
    "tags": []
   },
   "outputs": [
    {
     "name": "stdout",
     "output_type": "stream",
     "text": [
      "2023-06-01 11:59:08,508 INFO sqlalchemy.engine.Engine BEGIN (implicit)\n",
      "2023-06-01 11:59:08,510 INFO sqlalchemy.engine.Engine SELECT user_account.id, user_account.name, user_account.fullname \n",
      "FROM user_account\n",
      "2023-06-01 11:59:08,513 INFO sqlalchemy.engine.Engine [generated in 0.00355s] ()\n"
     ]
    },
    {
     "data": {
      "text/plain": [
       "(User(id=1, name='spongebob', fullname='Spongebob Squarepants'),)"
      ]
     },
     "execution_count": 18,
     "metadata": {},
     "output_type": "execute_result"
    }
   ],
   "source": [
    "row = session.execute(select(User)).first()\n",
    "row"
   ]
  },
  {
   "cell_type": "markdown",
   "id": "de94a485-85da-4f06-8d14-a21161e647be",
   "metadata": {},
   "source": [
    "上面的 Row 只有一个元素，表示 User 实体:\n",
    "\n"
   ]
  },
  {
   "cell_type": "code",
   "execution_count": 19,
   "id": "aa77a9b3-696f-4a1a-81cc-f3125f4c4659",
   "metadata": {
    "tags": []
   },
   "outputs": [
    {
     "data": {
      "text/plain": [
       "User(id=1, name='spongebob', fullname='Spongebob Squarepants')"
      ]
     },
     "execution_count": 19,
     "metadata": {},
     "output_type": "execute_result"
    }
   ],
   "source": [
    "row[0]"
   ]
  },
  {
   "cell_type": "markdown",
   "id": "240f71ed-c0b1-412b-b1d0-f57d468c6aeb",
   "metadata": {},
   "source": [
    "一个强烈推荐的方便的方法是使用 Session.scalars()方法直接执行语句，这个方法将返回一个 ScalarResult 对象，它立即传递每一行的第一个“列”，在这个例子中，User 类的实例:"
   ]
  },
  {
   "cell_type": "code",
   "execution_count": 20,
   "id": "b4f3ac0d-e1ae-44ee-8866-595d62c61ff7",
   "metadata": {
    "tags": []
   },
   "outputs": [
    {
     "name": "stdout",
     "output_type": "stream",
     "text": [
      "2023-06-01 11:59:08,559 INFO sqlalchemy.engine.Engine SELECT user_account.id, user_account.name, user_account.fullname \n",
      "FROM user_account\n",
      "2023-06-01 11:59:08,560 INFO sqlalchemy.engine.Engine [cached since 0.05075s ago] ()\n"
     ]
    },
    {
     "data": {
      "text/plain": [
       "User(id=1, name='spongebob', fullname='Spongebob Squarepants')"
      ]
     },
     "execution_count": 20,
     "metadata": {},
     "output_type": "execute_result"
    }
   ],
   "source": [
    "user = session.scalars(select(User)).first()\n",
    "user"
   ]
  },
  {
   "cell_type": "markdown",
   "id": "3f042664-8154-475e-a06b-5fd07b4b514d",
   "metadata": {},
   "source": [
    "或者，我们可以使用类绑定属性在结果行中选择 ORM 实体的单个列作为不同的元素;\n",
    "当这些属性被传递给诸如 select()之类的构造时，它们被解析为 Column 或由每个属性表示的其他 SQL 表达式:\n",
    "\n"
   ]
  },
  {
   "cell_type": "code",
   "execution_count": 21,
   "id": "87d94a64-1f25-4a1a-8599-4f317e4dbd6f",
   "metadata": {
    "tags": []
   },
   "outputs": [
    {
     "name": "stdout",
     "output_type": "stream",
     "text": [
      "SELECT user_account.name, user_account.fullname \n",
      "FROM user_account\n"
     ]
    }
   ],
   "source": [
    "print(select(User.name, User.fullname))"
   ]
  },
  {
   "cell_type": "markdown",
   "id": "91eb7058-1a56-45b7-a6ba-3bc326edaf73",
   "metadata": {
    "tags": []
   },
   "source": [
    "当我们使用 Session.execute()调用这个语句时，我们现在接收的行中每个值都有单独的元素，每个元素对应一个单独的列或其他 SQL 表达式:\n",
    "\n"
   ]
  },
  {
   "cell_type": "code",
   "execution_count": 22,
   "id": "73bba283-6ccd-4f10-bc3a-89f3d3bc5e2b",
   "metadata": {
    "tags": []
   },
   "outputs": [
    {
     "name": "stdout",
     "output_type": "stream",
     "text": [
      "2023-06-01 11:59:08,608 INFO sqlalchemy.engine.Engine SELECT user_account.name, user_account.fullname \n",
      "FROM user_account\n",
      "2023-06-01 11:59:08,609 INFO sqlalchemy.engine.Engine [generated in 0.00105s] ()\n"
     ]
    },
    {
     "data": {
      "text/plain": [
       "('spongebob', 'Spongebob Squarepants')"
      ]
     },
     "execution_count": 22,
     "metadata": {},
     "output_type": "execute_result"
    }
   ],
   "source": [
    "row = session.execute(select(User.name, User.fullname)).first()\n",
    "row"
   ]
  },
  {
   "cell_type": "markdown",
   "id": "6ee72205-8531-4fe5-ac8f-f4f78b69fd4c",
   "metadata": {
    "tags": []
   },
   "source": [
    "这些方法也可以混合使用，如下所示，我们将 User 实体的 name 属性作为行的第一个元素进行 SELECT，并将其与第二个元素中的完整 Address 实体组合在一起:"
   ]
  },
  {
   "cell_type": "code",
   "execution_count": 23,
   "id": "bbe0c65a-a7cb-4ef7-9f02-a19a213d2cc7",
   "metadata": {
    "tags": []
   },
   "outputs": [
    {
     "name": "stdout",
     "output_type": "stream",
     "text": [
      "2023-06-01 11:59:08,634 INFO sqlalchemy.engine.Engine SELECT user_account.name, address.id, address.email_address, address.user_id, address.test \n",
      "FROM user_account, address \n",
      "WHERE user_account.id = address.user_id ORDER BY address.id\n",
      "2023-06-01 11:59:08,637 INFO sqlalchemy.engine.Engine [generated in 0.00237s] ()\n"
     ]
    },
    {
     "data": {
      "text/plain": [
       "[]"
      ]
     },
     "execution_count": 23,
     "metadata": {},
     "output_type": "execute_result"
    }
   ],
   "source": [
    "session.execute(\n",
    "    select(User.name, Address).where(User.id == Address.user_id).order_by(Address.id)\n",
    ").all()"
   ]
  },
  {
   "cell_type": "markdown",
   "id": "8dc22a99-bfd2-4ec9-a9dd-e9ada19ac3b0",
   "metadata": {},
   "source": [
    "### 从标记的SQL表达式选择¶\n",
    "\n",
    "Label()方法以及 ORM 属性上可用的同名方法提供了一个列或表达式的 SQL 标签，允许它在结果集中具有特定的名称。当按名称引用结果行中的任意 SQL 表达式时，这会很有帮助:\n",
    "\n"
   ]
  },
  {
   "cell_type": "code",
   "execution_count": 24,
   "id": "3b467f1f-709d-4f90-92ef-ddc43a42cf5f",
   "metadata": {
    "tags": []
   },
   "outputs": [
    {
     "name": "stdout",
     "output_type": "stream",
     "text": [
      "2023-06-01 11:59:08,660 INFO sqlalchemy.engine.Engine BEGIN (implicit)\n",
      "2023-06-01 11:59:08,663 INFO sqlalchemy.engine.Engine SELECT ? || user_account.name AS username \n",
      "FROM user_account ORDER BY user_account.name\n",
      "2023-06-01 11:59:08,666 INFO sqlalchemy.engine.Engine [generated in 0.00613s] ('Username: ',)\n",
      "Username: patrick\n",
      "Username: sandy\n",
      "Username: spongebob\n",
      "2023-06-01 11:59:08,668 INFO sqlalchemy.engine.Engine ROLLBACK\n"
     ]
    }
   ],
   "source": [
    "from sqlalchemy import func, cast\n",
    "stmt = select(\n",
    "    (\"Username: \" + user_table.name).label(\"username\"),\n",
    ").order_by(user_table.name)\n",
    "with engine.connect() as conn:\n",
    "    for row in conn.execute(stmt):\n",
    "        print(f\"{row.username}\")"
   ]
  },
  {
   "cell_type": "markdown",
   "id": "8a06cc81-b8d3-4ed3-8462-f633823fb14f",
   "metadata": {},
   "source": [
    "### Selecting with Textual Column Expressions¶\n",
    "\n",
    "当我们使用 select()函数构造 Select 对象时，我们通常会向其传递一系列使用表元数据定义的 Table 和 Column 对象，或者当使用 ORM 时，我们可能会发送表示表列的 ORM 映射属性。\n",
    "但是，有时也需要在语句内部生成任意的 SQL 块，例如常量字符串表达式，或者只生成一些任意的 SQL，这样可以更快地按字面意思写入。\n",
    "\n",
    "在 Working with Transactions 和 DBAPI 中引入的 text()构造实际上可以直接嵌入 SELECT 构造中，比如下面我们生成一个硬编码的字符串文字“ some words”并将其嵌入到 SELECT 语句中:\n"
   ]
  },
  {
   "cell_type": "code",
   "execution_count": 25,
   "id": "8fcb727e-eed8-44ed-8619-d789c97abe63",
   "metadata": {
    "tags": []
   },
   "outputs": [
    {
     "name": "stdout",
     "output_type": "stream",
     "text": [
      "2023-06-01 11:59:08,688 INFO sqlalchemy.engine.Engine BEGIN (implicit)\n",
      "2023-06-01 11:59:08,689 INFO sqlalchemy.engine.Engine SELECT 'some phrase', user_account.name \n",
      "FROM user_account ORDER BY user_account.name\n",
      "2023-06-01 11:59:08,692 INFO sqlalchemy.engine.Engine [generated in 0.00434s] ()\n",
      "[('some phrase', 'patrick'), ('some phrase', 'sandy'), ('some phrase', 'spongebob')]\n",
      "2023-06-01 11:59:08,693 INFO sqlalchemy.engine.Engine ROLLBACK\n"
     ]
    }
   ],
   "source": [
    "from sqlalchemy import text\n",
    "stmt = select(text(\"'some phrase'\"), user_table.name).order_by(user_table.name)\n",
    "with engine.connect() as conn:\n",
    "    print(conn.execute(stmt).all())"
   ]
  },
  {
   "cell_type": "markdown",
   "id": "13bb8db2-b303-465a-b52d-6fa7554e935c",
   "metadata": {},
   "source": [
    "尽管 text() 结构在大多数地方都可以用来注入文字 SQL 短语，但我们实际上多半是在处理每个表示单个列表达式的文本单元。\n",
    "在这种常见的情况下，我们可以使用 literal_column() 结构从文本片段中获得更多的功能。这个对象类似于 text () ，只不过它不是表示任意形式的 SQL，而是显式地表示一个“列”，然后可以在子查询和其他表达式中标记和引用它:\n"
   ]
  },
  {
   "cell_type": "code",
   "execution_count": 26,
   "id": "4d7031ca-cf97-4f91-be46-e7db8b8dbf5b",
   "metadata": {
    "tags": []
   },
   "outputs": [
    {
     "name": "stdout",
     "output_type": "stream",
     "text": [
      "2023-06-01 11:59:08,718 INFO sqlalchemy.engine.Engine BEGIN (implicit)\n",
      "2023-06-01 11:59:08,720 INFO sqlalchemy.engine.Engine SELECT 'some phrase' AS p, user_account.name \n",
      "FROM user_account ORDER BY user_account.name\n",
      "2023-06-01 11:59:08,721 INFO sqlalchemy.engine.Engine [generated in 0.00264s] ()\n",
      "some phrase, patrick\n",
      "some phrase, sandy\n",
      "some phrase, spongebob\n",
      "2023-06-01 11:59:08,723 INFO sqlalchemy.engine.Engine ROLLBACK\n"
     ]
    }
   ],
   "source": [
    "from sqlalchemy import literal_column\n",
    "stmt = select(literal_column(\"'some phrase'\").label(\"p\"), user_table.name).order_by(\n",
    "    user_table.name\n",
    ")\n",
    "with engine.connect() as conn:\n",
    "    for row in conn.execute(stmt):\n",
    "        print(f\"{row.p}, {row.name}\")"
   ]
  },
  {
   "cell_type": "markdown",
   "id": "26fd9a35-03a3-4de1-9947-5c73e12bfb23",
   "metadata": {},
   "source": [
    "请注意，在这两种情况下，使用text（）或trielal_column（）时，我们正在编写句法SQL表达式，而不是文字值。\n",
    "因此，我们必须包括我们想要看到的SQL所需的任何引用或语法。"
   ]
  },
  {
   "cell_type": "markdown",
   "id": "a9ce34a1-ced0-453f-a483-eb6aaa6064c5",
   "metadata": {},
   "source": [
    "### The WHERE clause¶\n",
    "\n",
    "SQLalchemy允许我们通过与列和类似对象结合使用标准Python操作员来组成SQL表达式，例如名称='squidward'或user_id> 10。\n",
    "对于布尔表达式，大多数python运算符，例如==，!=，<，>=等。\n",
    "生成新的sql表达式对象，而不是普通的布尔值true/false值："
   ]
  },
  {
   "cell_type": "code",
   "execution_count": 27,
   "id": "3588ef51-e11f-4aff-a5a0-d162ab9c44d1",
   "metadata": {
    "tags": []
   },
   "outputs": [
    {
     "name": "stdout",
     "output_type": "stream",
     "text": [
      "user_account.name = :name_1\n",
      "address.user_id > :user_id_1\n"
     ]
    }
   ],
   "source": [
    "print(user_table.name == \"squidward\")\n",
    "\n",
    "print(address_table.user_id > 10)"
   ]
  },
  {
   "cell_type": "markdown",
   "id": "e6b48ca9-7286-40ec-a506-2bf32be68100",
   "metadata": {},
   "source": [
    "我们可以使用类似的表达式通过将结果对象传递给select.where（）方法来生成Where子句："
   ]
  },
  {
   "cell_type": "code",
   "execution_count": 28,
   "id": "0172f6f2-1921-448a-8e8a-56f966eae292",
   "metadata": {
    "tags": []
   },
   "outputs": [
    {
     "name": "stdout",
     "output_type": "stream",
     "text": [
      "SELECT user_account.id, user_account.name, user_account.fullname \n",
      "FROM user_account \n",
      "WHERE user_account.name = :name_1\n"
     ]
    }
   ],
   "source": [
    "print(select(user_table).where(user_table.name == \"squidward\"))"
   ]
  },
  {
   "cell_type": "markdown",
   "id": "201b3e5e-8b7b-4dc2-9ee3-9f7494e37678",
   "metadata": {},
   "source": [
    "为了产生由 AND 连接的多个表达式，Select.where ()方法可以被调用任意次数:"
   ]
  },
  {
   "cell_type": "code",
   "execution_count": 29,
   "id": "80f9ad2f-0ea9-43f9-a1e6-7f465ece0732",
   "metadata": {
    "tags": []
   },
   "outputs": [
    {
     "name": "stdout",
     "output_type": "stream",
     "text": [
      "SELECT address.email_address \n",
      "FROM address, user_account \n",
      "WHERE user_account.name = :name_1 AND address.user_id = user_account.id\n"
     ]
    }
   ],
   "source": [
    "print(\n",
    "    select(address_table.email_address)\n",
    "    .where(user_table.name == \"squidward\")\n",
    "    .where(address_table.user_id == user_table.id)\n",
    ")"
   ]
  },
  {
   "cell_type": "markdown",
   "id": "2328b403-e9d9-47ba-a926-b581a516ccfe",
   "metadata": {},
   "source": [
    "对 Select.where ()的单个调用也接受具有相同效果的多个表达式:"
   ]
  },
  {
   "cell_type": "code",
   "execution_count": 30,
   "id": "47d21fc6-792a-4a4e-be0a-41ed30180461",
   "metadata": {
    "tags": []
   },
   "outputs": [
    {
     "name": "stdout",
     "output_type": "stream",
     "text": [
      "SELECT address.email_address \n",
      "FROM address, user_account \n",
      "WHERE user_account.name = :name_1 AND address.user_id = user_account.id\n"
     ]
    }
   ],
   "source": [
    "print(\n",
    "    select(address_table.email_address).where(\n",
    "        user_table.name == \"squidward\",\n",
    "        address_table.user_id == user_table.id,\n",
    "    )\n",
    ")"
   ]
  },
  {
   "cell_type": "markdown",
   "id": "7fb25bf4-e217-48b4-b9a8-1f1e0cc192f5",
   "metadata": {},
   "source": [
    "“AND”和“OR”连词都可以直接使用 and_() or_()函数，下面用 ORM 实体说明:"
   ]
  },
  {
   "cell_type": "code",
   "execution_count": 31,
   "id": "f31f5ebe-b44c-42cc-9a59-74b236542a10",
   "metadata": {
    "tags": []
   },
   "outputs": [
    {
     "name": "stdout",
     "output_type": "stream",
     "text": [
      "SELECT address.email_address \n",
      "FROM address, user_account \n",
      "WHERE (user_account.name = :name_1 OR user_account.name = :name_2) AND address.user_id = user_account.id\n"
     ]
    }
   ],
   "source": [
    "from sqlalchemy import and_, or_\n",
    "print(\n",
    "    select(Address.email_address).where(\n",
    "        and_(\n",
    "            or_(User.name == \"squidward\", User.name == \"sandy\"),\n",
    "            Address.user_id == User.id,\n",
    "        )\n",
    "    )\n",
    ")"
   ]
  },
  {
   "cell_type": "markdown",
   "id": "0225eb12-ab24-4b9e-a965-3a6e721bb85b",
   "metadata": {},
   "source": [
    "对于单个实体的简单“相等”比较，还有一个流行的方法 Select.filter _ by () ，它接受与列键或 ORM 属性名匹配的关键字参数。它将根据最左边的 FROM 子句或最后加入的实体进行筛选:"
   ]
  },
  {
   "cell_type": "code",
   "execution_count": 32,
   "id": "ed09b9ea-5e82-4abe-8f8f-36b7976a8639",
   "metadata": {
    "tags": []
   },
   "outputs": [
    {
     "name": "stdout",
     "output_type": "stream",
     "text": [
      "SELECT user_account.id, user_account.name, user_account.fullname \n",
      "FROM user_account \n",
      "WHERE user_account.name = :name_1 AND user_account.fullname = :fullname_1\n"
     ]
    }
   ],
   "source": [
    "print(select(User).filter_by(name=\"spongebob\", fullname=\"Spongebob Squarepants\"))"
   ]
  },
  {
   "cell_type": "markdown",
   "id": "106ad0bc-5f2d-4c1e-8f54-62f71868dfe4",
   "metadata": {},
   "source": [
    "### Explicit FROM clauses and JOINs\n",
    "\n",
    "如前所述，FROM 子句通常是根据我们在 column 子句中设置的表达式以及 Select 的其他元素推断出来的。\n",
    "\n",
    "如果我们从“Column”子句中的特定表中设置一个列，则将该表也放在\"FROM\"子句中：\n"
   ]
  },
  {
   "cell_type": "code",
   "execution_count": 33,
   "id": "6ca524da-d22f-4655-b564-2de0c170bdaa",
   "metadata": {
    "tags": []
   },
   "outputs": [
    {
     "name": "stdout",
     "output_type": "stream",
     "text": [
      "SELECT user_account.name \n",
      "FROM user_account\n"
     ]
    }
   ],
   "source": [
    "print(select(user_table.name))"
   ]
  },
  {
   "cell_type": "markdown",
   "id": "c9179fcc-9c43-469d-9f4d-461086ba4f58",
   "metadata": {},
   "source": [
    "如果我们将两个表中的列放在一起，那么我们将得到一个逗号分隔的 FROM 子句:\n"
   ]
  },
  {
   "cell_type": "code",
   "execution_count": 34,
   "id": "d0f9a2f3-7d87-458d-b261-2fe120cac1d0",
   "metadata": {
    "tags": []
   },
   "outputs": [
    {
     "name": "stdout",
     "output_type": "stream",
     "text": [
      "SELECT user_account.name, address.email_address \n",
      "FROM user_account, address\n"
     ]
    }
   ],
   "source": [
    "print(select(user_table.name, address_table.email_address))"
   ]
  },
  {
   "cell_type": "markdown",
   "id": "ab3a5f8e-1ef9-49a0-b5fd-7a34505268c2",
   "metadata": {},
   "source": [
    "为了将这两个表连接在一起，我们通常在SELECT上使用两种方法之一。\n",
    "第一个是select.join_from（）方法，它允许我们明确指示加入的左侧和右侧："
   ]
  },
  {
   "cell_type": "code",
   "execution_count": 35,
   "id": "1c0c046e-0aee-405d-b02a-0a4e468fa496",
   "metadata": {
    "tags": []
   },
   "outputs": [
    {
     "name": "stdout",
     "output_type": "stream",
     "text": [
      "SELECT user_account.name, address.email_address \n",
      "FROM user_account JOIN address ON user_account.id = address.user_id\n"
     ]
    }
   ],
   "source": [
    "print(\n",
    "    select(user_table.name, address_table.email_address).join_from(\n",
    "        user_table, address_table\n",
    "    )\n",
    ")"
   ]
  },
  {
   "cell_type": "markdown",
   "id": "1602f56f-cdd1-4ea8-a504-2069fdf4adb0",
   "metadata": {
    "tags": []
   },
   "source": [
    "另一个是select.join（）方法，它仅表示联接的右侧，左手侧是：\n"
   ]
  },
  {
   "cell_type": "code",
   "execution_count": 37,
   "id": "283655d2-b8c9-4c4e-a19d-af58fb64dc96",
   "metadata": {},
   "outputs": [
    {
     "name": "stdout",
     "output_type": "stream",
     "text": [
      "SELECT user_account.name, address.email_address \n",
      "FROM user_account JOIN address ON user_account.id = address.user_id\n"
     ]
    }
   ],
   "source": [
    "print(select(user_table.name, address_table.email_address).join(address_table))"
   ]
  }
 ],
 "metadata": {
  "kernelspec": {
   "display_name": "Python 3 (ipykernel)",
   "language": "python",
   "name": "python3"
  },
  "language_info": {
   "codemirror_mode": {
    "name": "ipython",
    "version": 3
   },
   "file_extension": ".py",
   "mimetype": "text/x-python",
   "name": "python",
   "nbconvert_exporter": "python",
   "pygments_lexer": "ipython3",
   "version": "3.10.4"
  }
 },
 "nbformat": 4,
 "nbformat_minor": 5
}
