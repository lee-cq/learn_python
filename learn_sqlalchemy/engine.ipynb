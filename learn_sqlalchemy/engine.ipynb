{
 "cells": [
  {
   "cell_type": "markdown",
   "id": "9513c2eb-a97e-4851-af4f-74a33fc99d8a",
   "metadata": {},
   "source": [
    "# 学习使用SQLAlchemy ORM框架\n",
    "\n",
    "安装框架"
   ]
  },
  {
   "cell_type": "code",
   "execution_count": 1,
   "id": "584de946-ca69-449f-856c-4f8d2c26a4a4",
   "metadata": {
    "tags": []
   },
   "outputs": [
    {
     "name": "stdout",
     "output_type": "stream",
     "text": [
      "Requirement already satisfied: sqlalchemy in /usr/local/python/3.10.4/lib/python3.10/site-packages (2.0.15)\n",
      "Requirement already satisfied: typing-extensions>=4.2.0 in /home/codespace/.local/lib/python3.10/site-packages (from sqlalchemy) (4.5.0)\n",
      "Requirement already satisfied: greenlet!=0.4.17 in /usr/local/python/3.10.4/lib/python3.10/site-packages (from sqlalchemy) (2.0.2)\n",
      "\n",
      "\u001b[1m[\u001b[0m\u001b[34;49mnotice\u001b[0m\u001b[1;39;49m]\u001b[0m\u001b[39;49m A new release of pip is available: \u001b[0m\u001b[31;49m23.1.1\u001b[0m\u001b[39;49m -> \u001b[0m\u001b[32;49m23.1.2\u001b[0m\n",
      "\u001b[1m[\u001b[0m\u001b[34;49mnotice\u001b[0m\u001b[1;39;49m]\u001b[0m\u001b[39;49m To update, run: \u001b[0m\u001b[32;49mpython -m pip install --upgrade pip\u001b[0m\n"
     ]
    }
   ],
   "source": [
    "! pip install sqlalchemy"
   ]
  },
  {
   "cell_type": "markdown",
   "id": "f465a183-55dc-43b7-ac5b-be6c60a12d90",
   "metadata": {},
   "source": [
    "## 创建引擎\n",
    "\n",
    "SQLAlchemy 通过不同的引擎连接到不同的数据库实例上。\n",
    "\n",
    "其最主要的参数是连接字符串，\"sqlite+pysqlite:///:memory:\"\n",
    "它由3段组成：\n",
    "\n",
    "sqlite:\n",
    "pysqlite:\n",
    "/:memory:\n"
   ]
  },
  {
   "cell_type": "code",
   "execution_count": 5,
   "id": "93301690-7b3c-4e27-b8f8-849879dafc46",
   "metadata": {
    "tags": []
   },
   "outputs": [],
   "source": [
    "from sqlalchemy import create_engine\n",
    "\n",
    "engine = create_engine(\"sqlite+pysqlite:///:memory:\", echo=True)"
   ]
  },
  {
   "cell_type": "markdown",
   "id": "11a8fa8d-2b61-464d-9835-0485824cff35",
   "metadata": {},
   "source": [
    "准备好发动机对象后，我们现在可以继续研究引擎的基本操作及其主要的交互式端点，即连接和结果。我们还将为这些对象（称为会话）介绍ORM的外墙。\n",
    "\n",
    "> 使用 ORM 时，引擎由另一个称为会话的对象管理。 \n",
    "> 现代 SQLAlchemy 中的 Session 强调事务和 SQL 执行模式，这与下面讨论的 Connection 在很大程度上相同，因此虽然本小节是以核心为中心的，但这里的所有概念本质上也与 ORM 使用相关，并推荐用于 所有 ORM 学习者。 \n",
    "> Connection 使用的执行模式将在本节末尾与 Session 的执行模式进行对比。\n",
    "\n",
    "在下面使用text构造器执行了一条查询命令命令，用以打印 hello world\n",
    "\n",
    "首先从engine中获取一个连接，并用上下文管理器管理这个连接以保证在连接在被用完后会被正常关闭。\n",
    "然后使用连接执行 text构造的SQL语句。"
   ]
  },
  {
   "cell_type": "code",
   "execution_count": 3,
   "id": "63ccae15-39d8-480a-8c68-d124cf8dc8de",
   "metadata": {
    "tags": []
   },
   "outputs": [
    {
     "name": "stdout",
     "output_type": "stream",
     "text": [
      "2023-05-31 06:56:41,394 INFO sqlalchemy.engine.Engine BEGIN (implicit)\n",
      "2023-05-31 06:56:41,395 INFO sqlalchemy.engine.Engine select 'hello world'\n",
      "2023-05-31 06:56:41,396 INFO sqlalchemy.engine.Engine [generated in 0.00183s] ()\n",
      "[('hello world',)]\n",
      "2023-05-31 06:56:41,398 INFO sqlalchemy.engine.Engine ROLLBACK\n"
     ]
    }
   ],
   "source": [
    "from sqlalchemy import text\n",
    "with engine.connect() as conn:\n",
    "    result = conn.execute(text(\"select 'hello world'\"))\n",
    "    print(result.all())"
   ]
  },
  {
   "cell_type": "markdown",
   "id": "49afff61-8d97-4233-a8b8-2cc691049802",
   "metadata": {},
   "source": [
    "连接中的事务并不会自动提交，从上文中的结果可以发现，最后的Engine ROLLBACK，如果一个连接没有提交，那么会在连接关闭前回滚。"
   ]
  },
  {
   "cell_type": "markdown",
   "id": "2a2ff435-4e6a-46b9-9add-9677cb51ec94",
   "metadata": {},
   "source": [
    "## 向数据库提交更改\n",
    "我们可以改变上面的示例来创建一个表并插入一些数据，然后使用 Connection.commit() 方法提交事务，该方法在我们获取 Connection 对象的块内调用：\n",
    "如下：\n",
    "将创建一个数据表并向其中插入数据。"
   ]
  },
  {
   "cell_type": "code",
   "execution_count": 7,
   "id": "b6f0ecc4-6f60-4b1a-a2a9-b4095275f87f",
   "metadata": {
    "tags": []
   },
   "outputs": [
    {
     "name": "stdout",
     "output_type": "stream",
     "text": [
      "2023-05-31 07:05:57,792 INFO sqlalchemy.engine.Engine BEGIN (implicit)\n",
      "2023-05-31 07:05:57,793 INFO sqlalchemy.engine.Engine CREATE TABLE some_table (x int, y int)\n",
      "2023-05-31 07:05:57,795 INFO sqlalchemy.engine.Engine [generated in 0.00331s] ()\n",
      "2023-05-31 07:05:57,796 INFO sqlalchemy.engine.Engine INSERT INTO some_table (x, y) VALUES (?, ?)\n",
      "2023-05-31 07:05:57,797 INFO sqlalchemy.engine.Engine [generated in 0.00102s] [(1, 1), (2, 4)]\n",
      "2023-05-31 07:05:57,798 INFO sqlalchemy.engine.Engine COMMIT\n"
     ]
    }
   ],
   "source": [
    "with engine.connect() as conn:\n",
    "    conn.execute(text(\"CREATE TABLE some_table (x int, y int)\"))\n",
    "    conn.execute(\n",
    "        text(\"INSERT INTO some_table (x, y) VALUES (:x, :y)\"),\n",
    "        [{\"x\": 1, \"y\": 1}, {\"x\": 2, \"y\": 4}],\n",
    "    )\n",
    "    conn.commit()"
   ]
  },
  {
   "cell_type": "markdown",
   "id": "244f78b8-6cf0-462d-a492-a1731f056b44",
   "metadata": {},
   "source": [
    "engine.connect() 是需要手动提交数据到数据库；\n",
    "\n",
    "还有另一种合作数据样式，即我们可以将“连接”块声明为前面的连接块。对于这种操作模式，我们使用Engine.begin（）方法来获取连接，而不是eNgire.connect（）方法。此方法既可以管理连接的范围，又要将所有内容包装在连接中，并在结束时，假设成功的块，或者在例外增加的情况下回滚。这种样式可以称为开始一次：\n",
    "\n",
    "engine.begin() 将会在结束时自动提交。"
   ]
  },
  {
   "cell_type": "code",
   "execution_count": 9,
   "id": "1de7ed9b-5126-4d77-8d6a-fcd62899c173",
   "metadata": {
    "tags": []
   },
   "outputs": [
    {
     "name": "stdout",
     "output_type": "stream",
     "text": [
      "2023-05-31 07:06:51,342 INFO sqlalchemy.engine.Engine BEGIN (implicit)\n",
      "2023-05-31 07:06:51,343 INFO sqlalchemy.engine.Engine INSERT INTO some_table (x, y) VALUES (?, ?)\n",
      "2023-05-31 07:06:51,344 INFO sqlalchemy.engine.Engine [cached since 53.55s ago] [(6, 8), (9, 10)]\n",
      "2023-05-31 07:06:51,345 INFO sqlalchemy.engine.Engine COMMIT\n"
     ]
    }
   ],
   "source": [
    "with engine.begin() as conn:\n",
    "    conn.execute(\n",
    "        text(\"INSERT INTO some_table (x, y) VALUES (:x, :y)\"),\n",
    "        [{\"x\": 6, \"y\": 8}, {\"x\": 9, \"y\": 10}],\n",
    "    )"
   ]
  },
  {
   "cell_type": "markdown",
   "id": "898dcbec-de00-41e6-9a44-f82350efc404",
   "metadata": {},
   "source": [
    "## 从数据库查询内容"
   ]
  },
  {
   "cell_type": "code",
   "execution_count": 10,
   "id": "cef17f50-ecdd-4dea-9bb2-9722b6caf93f",
   "metadata": {
    "tags": []
   },
   "outputs": [
    {
     "name": "stdout",
     "output_type": "stream",
     "text": [
      "2023-05-31 07:17:11,126 INFO sqlalchemy.engine.Engine BEGIN (implicit)\n",
      "2023-05-31 07:17:11,127 INFO sqlalchemy.engine.Engine SELECT x, y FROM some_table\n",
      "2023-05-31 07:17:11,129 INFO sqlalchemy.engine.Engine [cached since 719.2s ago] ()\n",
      "Type: <class 'sqlalchemy.engine.cursor.CursorResult'>\n",
      "x: 1  y: 1\n",
      "x: 2  y: 4\n",
      "x: 6  y: 8\n",
      "x: 9  y: 10\n",
      "2023-05-31 07:17:11,131 INFO sqlalchemy.engine.Engine ROLLBACK\n"
     ]
    }
   ],
   "source": [
    "with engine.connect() as conn:\n",
    "    result = conn.execute(text(\"SELECT x, y FROM some_table\"))\n",
    "    print('Type:', type(result))\n",
    "    for row in result:\n",
    "        print(f\"x: {row.x}  y: {row.y}\")"
   ]
  },
  {
   "cell_type": "markdown",
   "id": "063b1b20-2519-4f6b-ac65-d7fd1a5e815e",
   "metadata": {},
   "source": [
    "上面，我们执行的“选择”字符串从表中选择了所有行。返回的对象称为结果，代表结果行的一个可迭代的对象。\n",
    "\n",
    "结果有许多用于获取和转换行的方法，例如result.all（）方法，以返回所有行对象的列表。它还实现了Python迭代器接口，因此我们可以直接迭代行的集合。\n",
    "\n",
    "**元组分配** - 这是最PYTHON-偶像的样式，它是在接收到每行的位置上分配变量：\n",
    "```python\n",
    "result = conn.execute(text(\"select x, y from some_table\"))\n",
    "\n",
    "for x, y in result:\n",
    "    ...\n",
    "```\n",
    "\n",
    "**索引分配** - 元组是Python序列，因此也可以使用常规整数访问：\n",
    "```python\n",
    "result = conn.execute(text(\"select x, y from some_table\"))\n",
    "\n",
    "for row in result:\n",
    "    x = row[0]\n",
    "```\n",
    "\n",
    "**属性名字** - 由于这些是python命名为元组，因此该元组具有与每列名称匹配的动态属性名称。这些名称通常是SQL语句分配给每行列的名称。尽管它们通常是可预测的，并且也可以由标签控制，但在较不明显的情况下，它们可能受到数据库特定行为的影响：\n",
    "\n",
    "```python\n",
    "result = conn.execute(text(\"select x, y from some_table\"))\n",
    "\n",
    "for row in result:\n",
    "    y = row.y\n",
    "\n",
    "    # illustrate use with Python f-strings\n",
    "    print(f\"Row: {row.x} {y}\")\n",
    "```\n",
    "\n",
    "**字典访问** - 要将行作为 Python 映射对象接收，这本质上是 Python 到通用 dict 对象的接口的只读版本，可以使用 Result.mappings() 修饰符将 Result 转换为 MappingResult 对象； 这是一个结果对象，它产生类似字典的 RowMapping 对象而不是 Row 对象：\n",
    "```python\n",
    "result = conn.execute(text(\"select x, y from some_table\"))\n",
    "\n",
    "for dict_row in result.mappings():\n",
    "    x = dict_row[\"x\"]\n",
    "    y = dict_row[\"y\"]\n",
    "```\n",
    "\n"
   ]
  },
  {
   "cell_type": "markdown",
   "id": "4156469a-4d55-4493-b01c-e71591f40c3d",
   "metadata": {},
   "source": [
    "## 发送查询参数\n",
    "\n",
    "conn.execute() 接受一些参数。\n"
   ]
  },
  {
   "cell_type": "code",
   "execution_count": 11,
   "id": "ba30dcb2-d8af-4825-ab69-d8fc580078d0",
   "metadata": {
    "tags": []
   },
   "outputs": [
    {
     "name": "stdout",
     "output_type": "stream",
     "text": [
      "2023-05-31 07:34:47,510 INFO sqlalchemy.engine.Engine BEGIN (implicit)\n",
      "2023-05-31 07:34:47,512 INFO sqlalchemy.engine.Engine SELECT x, y FROM some_table WHERE y > ?\n",
      "2023-05-31 07:34:47,513 INFO sqlalchemy.engine.Engine [generated in 0.00353s] (2,)\n",
      "x: 2  y: 4\n",
      "x: 6  y: 8\n",
      "x: 9  y: 10\n",
      "2023-05-31 07:34:47,515 INFO sqlalchemy.engine.Engine ROLLBACK\n"
     ]
    }
   ],
   "source": [
    "with engine.connect() as conn:\n",
    "    result = conn.execute(text(\"SELECT x, y FROM some_table WHERE y > :y\"), {\"y\": 2})\n",
    "    for row in result:\n",
    "        print(f\"x: {row.x}  y: {row.y}\")"
   ]
  },
  {
   "cell_type": "markdown",
   "id": "e87593cc-b6ff-45ec-a460-402dd5136b08",
   "metadata": {},
   "source": [
    "## Sending Multiple Parameters -- executemany"
   ]
  },
  {
   "cell_type": "code",
   "execution_count": null,
   "id": "e166cbe0-958e-4432-8c91-9f8986b0eaf6",
   "metadata": {},
   "outputs": [],
   "source": [
    "with engine.connect() as conn:\n",
    "    conn.execute(\n",
    "        text(\"INSERT INTO some_table (x, y) VALUES (:x, :y)\"),\n",
    "        [{\"x\": 11, \"y\": 12}, {\"x\": 13, \"y\": 14}],\n",
    "    )\n",
    "    conn.commit()"
   ]
  },
  {
   "cell_type": "markdown",
   "id": "3d1ee283-663d-44a9-b2ca-4d7690408da8",
   "metadata": {},
   "source": [
    "## ORM Session\n"
   ]
  },
  {
   "cell_type": "code",
   "execution_count": 12,
   "id": "d0245087-642d-4d18-b76a-2492e6c1c487",
   "metadata": {
    "tags": []
   },
   "outputs": [
    {
     "name": "stdout",
     "output_type": "stream",
     "text": [
      "2023-05-31 08:32:33,896 INFO sqlalchemy.engine.Engine BEGIN (implicit)\n",
      "2023-05-31 08:32:33,897 INFO sqlalchemy.engine.Engine SELECT x, y FROM some_table WHERE y > ? ORDER BY x, y\n",
      "2023-05-31 08:32:33,899 INFO sqlalchemy.engine.Engine [generated in 0.00188s] (6,)\n",
      "x: 6  y: 8\n",
      "x: 9  y: 10\n",
      "2023-05-31 08:32:33,901 INFO sqlalchemy.engine.Engine ROLLBACK\n"
     ]
    }
   ],
   "source": [
    "from sqlalchemy.orm import Session\n",
    "\n",
    "stmt = text(\"SELECT x, y FROM some_table WHERE y > :y ORDER BY x, y\")\n",
    "with Session(engine) as session:\n",
    "    result = session.execute(stmt, {\"y\": 6})\n",
    "    for row in result:\n",
    "        print(f\"x: {row.x}  y: {row.y}\")"
   ]
  },
  {
   "cell_type": "code",
   "execution_count": 13,
   "id": "30fce820-7849-4c8f-bfb5-535ed2001598",
   "metadata": {
    "tags": []
   },
   "outputs": [
    {
     "name": "stdout",
     "output_type": "stream",
     "text": [
      "2023-05-31 08:32:48,509 INFO sqlalchemy.engine.Engine BEGIN (implicit)\n",
      "2023-05-31 08:32:48,510 INFO sqlalchemy.engine.Engine UPDATE some_table SET y=? WHERE x=?\n",
      "2023-05-31 08:32:48,512 INFO sqlalchemy.engine.Engine [generated in 0.00123s] [(11, 9), (15, 13)]\n",
      "2023-05-31 08:32:48,512 INFO sqlalchemy.engine.Engine COMMIT\n"
     ]
    }
   ],
   "source": [
    "with Session(engine) as session:\n",
    "    result = session.execute(\n",
    "        text(\"UPDATE some_table SET y=:y WHERE x=:x\"),\n",
    "        [{\"x\": 9, \"y\": 11}, {\"x\": 13, \"y\": 15}],\n",
    "    )\n",
    "    session.commit()"
   ]
  }
 ],
 "metadata": {
  "kernelspec": {
   "display_name": "Python 3 (ipykernel)",
   "language": "python",
   "name": "python3"
  },
  "language_info": {
   "codemirror_mode": {
    "name": "ipython",
    "version": 3
   },
   "file_extension": ".py",
   "mimetype": "text/x-python",
   "name": "python",
   "nbconvert_exporter": "python",
   "pygments_lexer": "ipython3",
   "version": "3.10.4"
  }
 },
 "nbformat": 4,
 "nbformat_minor": 5
}
