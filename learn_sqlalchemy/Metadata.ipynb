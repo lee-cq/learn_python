{
 "cells": [
  {
   "cell_type": "markdown",
   "id": "45def73e-8ac3-4bb4-975e-936f90eaef0b",
   "metadata": {},
   "source": [
    "# SQLAlchemy MetaData\n",
    "\n",
    "Sqlalchemy中数据库元数据最常见的基础对象称为元数据，表和列。\n",
    "以下各节将说明如何以面向核心样式以及面向ORM的样式使用这些对象。\n",
    "\n"
   ]
  },
  {
   "cell_type": "markdown",
   "id": "8abe5412-4cb0-473f-b46b-2c9eee8eaab2",
   "metadata": {
    "tags": []
   },
   "source": [
    "## 设置带有表对象的元数据 -- Setting up MetaData with Table objects\n",
    "\n",
    "当我们使用关系数据库时，我们从中查询的数据库中的基本数据键结构被称为表。在SQLalchemy中，数据库“表”最终由类似命名表的Python对象表示。\n",
    "\n",
    "为了开始使用SQLalchemy表达语言，我们将希望构造构造的表对象，以代表我们感兴趣的所有数据库表。\n",
    "该表是通过编程构造的，可以直接使用表构造函数，或通过使用**ORM映射类**间接构造（后来在使用**ORM声明形式**来定义表元数据）。\n",
    "还可以选择从现有数据库中加载某些或所有表信息，称为**反射**。\n",
    "\n",
    "无论采用哪种方法，我们始终从一个集合开始，该集合将是我们将表格为元数据对象的表。\n",
    "该对象本质上是围绕Python Dict 的立面，该词典存储了一系列键入其字符串名称的表对象。\n",
    "虽然ORM提供了一些有关获取此系列的选项，但我们总是可以选择直接制作一个，看起来像："
   ]
  },
  {
   "cell_type": "code",
   "execution_count": 3,
   "id": "b557554b-f12c-4123-bf87-a1b4877b7984",
   "metadata": {
    "tags": []
   },
   "outputs": [],
   "source": [
    "from sqlalchemy import create_engine\n",
    "engine = create_engine(\"sqlite+pysqlite:///:memory:\", echo=True)\n",
    "\n",
    "from sqlalchemy import MetaData\n",
    "metadata_obj = MetaData()"
   ]
  },
  {
   "cell_type": "code",
   "execution_count": null,
   "id": "37a898ac-4799-4ace-86ae-16d1ddc50fb4",
   "metadata": {},
   "outputs": [],
   "source": [
    "一旦我们有了一个 MetaData 对象，我们就可以声明一些 Table 对象。 \n",
    "本教程将从经典的 SQLAlchemy 教程模型开始，\n",
    "该模型有一个名为 user_account 的表，用于存储例如网站的用户，以及一个相关的表 address，用于存储与 user_account 表中的行关联的电子邮件地址。\n",
    "当根本不使用 ORM 声明模型时，我们直接构造每个 Table 对象，通常将每个对象分配给一个变量，这将是我们在应用程序代码中引用表的方式："
   ]
  },
  {
   "cell_type": "code",
   "execution_count": 4,
   "id": "67fcbb07-8e6d-4965-823b-b66976e46a27",
   "metadata": {
    "tags": []
   },
   "outputs": [],
   "source": [
    "from sqlalchemy import Table, Column, Integer, String\n",
    "user_table = Table(\n",
    "    \"user_account\",\n",
    "    metadata_obj,\n",
    "    Column(\"id\", Integer, primary_key=True),\n",
    "    Column(\"name\", String(30)),\n",
    "    Column(\"fullname\", String),\n",
    ")"
   ]
  },
  {
   "cell_type": "markdown",
   "id": "f06e2fd4-4a72-4a44-bfce-8993effe8725",
   "metadata": {},
   "source": [
    "对于上面的示例，当我们希望编写引用数据库中的 user_account 表的代码时，我们将使用 user_table Python 变量来引用它。\n",
    "\n",
    "> **我什么时候在程序中制作元数据对象？**\n",
    "> \n",
    "> 为整个应用程序拥有一个元数据对象是最常见的情况，在应用程序中的单个位置中以单个位置的模块级变量表示，通常是在“模型”或“ dbschema”类型的软件包中。\n",
    "> 同样很常见的是，元数据是通过以ORM为中心的注册表或声明性基础类访问的，因此在ORM和核心销售的表对象之间共享相同的元数据。\n",
    "> \n",
    "> 也可以有多个元数据集合； 表对象可以不受限制地引用其他集合中的表对象。 \n",
    "> 然而，对于彼此相关的 Table 对象组，实际上将它们设置在单个 MetaData 集合中要简单得多，无论是从声明它们的角度还是从 DDL 的角度（即 CREATE 和 DROP) 语句以正确的顺序发出。\n"
   ]
  },
  {
   "cell_type": "markdown",
   "id": "d5497bd9-df5f-4fb2-b6ce-e3afc2adfa1d",
   "metadata": {
    "tags": []
   },
   "source": [
    "### 表的构成\n",
    "\n",
    "我们可以观察到，Python编写的表构造与SQL Create Table语句有相似之处。\n",
    "从表名称开始，然后列出每一列，其中每列都有一个名称和数据类型。我们上面使用的对象是：\n",
    "\n",
    "- Table: 代表数据库表，并将其分配给元数据集合。\n",
    "- Column: 表示数据库表中的列，并将其分配给表对象。该列通常包括一个字符串名称和一个类型对象。通常通过位于表的关联数组访问列对象的列对象的收集。\n",
    "- Integer, String: 这些类代表 SQL 数据类型，并且可以传递给 Column，有或没有必要被实例化。  上面，我们想给“name”列一个长度“30”，所以我们实例化了String(30)。 但是对于“id”和“fullname”我们没有指定这些，所以我们可以发送类本身。\n",
    "\n"
   ]
  },
  {
   "cell_type": "code",
   "execution_count": 6,
   "id": "2af73c81-5a30-4d10-98c0-9a37dd207538",
   "metadata": {
    "tags": []
   },
   "outputs": [
    {
     "data": {
      "text/plain": [
       "Column('name', String(length=30), table=<user_account>)"
      ]
     },
     "execution_count": 6,
     "metadata": {},
     "output_type": "execute_result"
    }
   ],
   "source": [
    "user_table.c.name"
   ]
  },
  {
   "cell_type": "code",
   "execution_count": 7,
   "id": "855ab4e4-ce06-493f-998d-a1bfd86079bf",
   "metadata": {
    "tags": []
   },
   "outputs": [
    {
     "data": {
      "text/plain": [
       "['id', 'name', 'fullname']"
      ]
     },
     "execution_count": 7,
     "metadata": {},
     "output_type": "execute_result"
    }
   ],
   "source": [
    "user_table.c.keys()"
   ]
  },
  {
   "cell_type": "markdown",
   "id": "68736828-4a68-48b9-adc7-532a6e5eecb5",
   "metadata": {},
   "source": [
    "### 声明简单的约束 -- Declaring Simple Constraints\n",
    "\n",
    "Column(\"name\", Type, 约束...)\n",
    "\n",
    "Column的属性：\n",
    "- primary_key\n",
    "- nullable\n",
    "\n",
    "> 在 Column 定义中使用 ForeignKey 对象时，我们可以省略该 Column 的数据类型； 它是从相关列自动推断出来的，在上面的例子中是 user_account.id 列的 Integer 数据类型。\n"
   ]
  },
  {
   "cell_type": "code",
   "execution_count": 8,
   "id": "a585d1c9-3ecc-4a20-b2b1-0ab5e97ed347",
   "metadata": {
    "tags": []
   },
   "outputs": [
    {
     "data": {
      "text/plain": [
       "PrimaryKeyConstraint(Column('id', Integer(), table=<user_account>, primary_key=True, nullable=False))"
      ]
     },
     "execution_count": 8,
     "metadata": {},
     "output_type": "execute_result"
    }
   ],
   "source": [
    "user_table.primary_key"
   ]
  },
  {
   "cell_type": "markdown",
   "id": "609ef8af-a208-4d2f-9aaa-d74c485021f1",
   "metadata": {},
   "source": [
    "### 向数据库发送 DDL \n",
    "\n",
    "下面包含表构建和发送DDL的完整代码。\n",
    "\n",
    "我们已经构建了一个对象结构，表示数据库中的两个数据库表，从根 MetaData 对象开始，然后是两个 Table 对象，每个对象都持有 Column 和 Constraint 对象的集合。 这个对象结构将成为我们对 Core 和 ORM 进行的大多数操作的核心。\n",
    "\n",
    "我们可以使用此结构可以做的第一件有用的事情是将创建表语句或DDL发射到我们的sqlite数据库中，以便我们可以从它们插入和查询数据。通过在我们的元数据上调用元数据。"
   ]
  },
  {
   "cell_type": "code",
   "execution_count": 15,
   "id": "349a0e96-8c86-4328-b26a-07cf386d8d5c",
   "metadata": {
    "tags": []
   },
   "outputs": [
    {
     "name": "stdout",
     "output_type": "stream",
     "text": [
      "2023-05-31 09:40:00,459 INFO sqlalchemy.engine.Engine BEGIN (implicit)\n",
      "2023-05-31 09:40:00,461 INFO sqlalchemy.engine.Engine PRAGMA main.table_info(\"user_account\")\n",
      "2023-05-31 09:40:00,462 INFO sqlalchemy.engine.Engine [raw sql] ()\n",
      "2023-05-31 09:40:00,463 INFO sqlalchemy.engine.Engine PRAGMA main.table_info(\"address\")\n",
      "2023-05-31 09:40:00,464 INFO sqlalchemy.engine.Engine [raw sql] ()\n",
      "2023-05-31 09:40:00,466 INFO sqlalchemy.engine.Engine COMMIT\n"
     ]
    }
   ],
   "source": [
    "from sqlalchemy import ForeignKey\n",
    "from sqlalchemy import Table, Column, Integer, String\n",
    "from sqlalchemy import MetaData\n",
    "\n",
    "metadata_obj = MetaData()\n",
    "\n",
    "user_table = Table(\n",
    "    \"user_account\",\n",
    "    metadata_obj,\n",
    "    Column(\"id\", Integer, primary_key=True),\n",
    "    Column(\"name\", String(30)),\n",
    "    Column(\"fullname\", String),\n",
    ")\n",
    "\n",
    "address_table = Table(\n",
    "    \"address\",\n",
    "    metadata_obj,\n",
    "    Column(\"id\", Integer, primary_key=True),\n",
    "    Column(\"user_id\", ForeignKey(\"user_account.id\"), nullable=False),\n",
    "    Column(\"email_address\", String, nullable=False),\n",
    ")\n",
    "\n",
    "metadata_obj.create_all(engine)"
   ]
  },
  {
   "cell_type": "markdown",
   "id": "f0f2b90c-8a04-4abd-a1dc-62f5ce5e3825",
   "metadata": {},
   "source": [
    "## Using ORM Declarative Forms to Define Table Metadata\n",
    "\n",
    "前面的示例说明了直接使用 Table 对象，它是 SQLAlchemy 在构造 SQL 表达式时最终如何引用数据库表的基础。 如前所述，SQLAlchemy ORM 围绕称为声明表的表声明过程提供了外观。 Declarative Table 过程实现了与我们在上一节中相同的目标，即构建 Table 对象，但在该过程中也为我们提供了其他东西，称为 ORM 映射类，或简称为“映射类”。 映射类是使用 ORM 时最常见的 SQL 基础单元，在现代 SQLAlchemy 中也可以非常有效地用于以核心为中心的使用。\n",
    "\n",
    "使用声明表的一些好处包括：\n",
    "\n",
    "- 设置列定义的更简洁，更简洁的曲调风格，其中Python类型可用于表示数据库中要使用的SQL类型\n",
    "\n",
    "- 由此产生的映射类可用于形成SQL表达式，在许多情况下，PEP 484键入信息，这些信息是由静态分析工具（例如MyPy和IDE类型检查器）拾取的\n",
    "\n",
    "- 允许声明表格元数据和ORM映射的类，以持久/对象加载操作中使用。\n",
    "\n",
    "本节将说明使用声明表构建的上一节的同一表元数据。\n",
    "\n",
    "使用ORM时，我们声明表元数据的过程通常与声明映射类的过程结合使用。映射类是我们要创建的任何Python类，然后将其属性链接到数据库表中的列。尽管有几种如何实现，但最常见的样式被称为声明性，并允许我们一次声明我们的用户定义的类和表格元数据。\n",
    "\n",
    "### Establishing a Declarative Base\n",
    "\n",
    "使用 ORM 时，元数据集合仍然存在，但它本身与通常称为声明性基础的 ORM-only 构造相关联。 获取新的 Declarative Base 最方便的方法是创建一个新类，该类是 SQLAlchemy DeclarativeBase 类的子类：\n"
   ]
  },
  {
   "cell_type": "code",
   "execution_count": 12,
   "id": "47bb8b7c-15d6-4497-a813-fbeb928e184b",
   "metadata": {
    "tags": []
   },
   "outputs": [],
   "source": [
    "from sqlalchemy.orm import DeclarativeBase\n",
    "class Base(DeclarativeBase):  # 创建一个基类， 其他表的声明继承这个基类实现\n",
    "    pass"
   ]
  },
  {
   "cell_type": "markdown",
   "id": "1246ec21-88b8-4718-a30a-a452b13c22a5",
   "metadata": {},
   "source": [
    "上面，我们将称之为声明性基础。\n",
    "当我们制作新的类是基本子类（结合适当的类级指令）的新类时，它们将在类创建时间时将它们建立为新的ORM映射类，通常每个人（但不是独家）指的是特定的表对象。\n",
    "\n",
    "声明性的基础是指为我们自动创建的元数据集合，假设我们没有从外部提供。该元数据集合可通过DectarativeBase.Metadata类级属性访问。当我们创建新的映射类时，他们每个人都会在此元数据集合中引用一个表："
   ]
  },
  {
   "cell_type": "code",
   "execution_count": 6,
   "id": "a97c5e13-fe75-406f-a4c3-27305859e9e0",
   "metadata": {
    "tags": []
   },
   "outputs": [
    {
     "data": {
      "text/plain": [
       "MetaData()"
      ]
     },
     "execution_count": 6,
     "metadata": {},
     "output_type": "execute_result"
    }
   ],
   "source": [
    "Base.metadata"
   ]
  },
  {
   "cell_type": "code",
   "execution_count": 7,
   "id": "2f9ded4a-1757-4b91-9ba7-a3844ef36fd8",
   "metadata": {
    "tags": []
   },
   "outputs": [
    {
     "data": {
      "text/plain": [
       "<sqlalchemy.orm.decl_api.registry at 0x7fa36df276d0>"
      ]
     },
     "execution_count": 7,
     "metadata": {},
     "output_type": "execute_result"
    }
   ],
   "source": [
    "Base.registry"
   ]
  },
  {
   "cell_type": "markdown",
   "id": "d28f4979-aac3-41e2-8973-3f7e6db1d29e",
   "metadata": {},
   "source": [
    "## Declaring Mapped Classes\n",
    "\n",
    "建立基类后，我们现在可以根据新类 User 和 Address 为 user_account 和 address 表定义 ORM 映射类。 我们在下面说明了声明式的最现代形式，它是使用特殊类型 Mapped 从 PEP 484 类型注释驱动的，它指示要映射为特定类型的属性：\n"
   ]
  },
  {
   "cell_type": "code",
   "execution_count": 13,
   "id": "79c116cb-8cde-4538-abcf-e181298dff2f",
   "metadata": {
    "tags": []
   },
   "outputs": [],
   "source": [
    "from typing import List\n",
    "from typing import Optional\n",
    "from sqlalchemy.orm import Mapped\n",
    "from sqlalchemy.orm import mapped_column\n",
    "from sqlalchemy.orm import relationship\n",
    "from sqlalchemy import ForeignKey\n",
    "\n",
    "class User(Base):\n",
    "    __tablename__ = \"user_account\"\n",
    "    id: Mapped[int] = mapped_column(primary_key=True)\n",
    "    name: Mapped[str] = mapped_column(String(30))\n",
    "    fullname: Mapped[Optional[str]]\n",
    "    addresses: Mapped[List[\"Address\"]] = relationship(back_populates=\"user\")\n",
    "    def __repr__(self) -> str:\n",
    "        return f\"User(id={self.id!r}, name={self.name!r}, fullname={self.fullname!r})\"\n",
    "\n",
    "class Address(Base):\n",
    "    __tablename__ = \"address\"\n",
    "    id: Mapped[int] = mapped_column(primary_key=True)\n",
    "    email_address: Mapped[str]\n",
    "    user_id = mapped_column(ForeignKey(\"user_account.id\"))\n",
    "    user: Mapped[User] = relationship(back_populates=\"addresses\")\n",
    "    test: Mapped[str]\n",
    "    def __repr__(self) -> str:\n",
    "        return f\"Address(id={self.id!r}, email_address={self.email_address!r})\""
   ]
  },
  {
   "cell_type": "markdown",
   "id": "2f4c5cc7-87cf-44c1-a737-d7f47bf2012b",
   "metadata": {},
   "source": [
    "上面的两个类 User 和 Address 现在被称为 ORM 映射类，可用于 ORM 持久化和查询操作，稍后将对此进行描述。这些课程的详情包括:\n",
    "    \n",
    "- 每个类是指作为声明映射过程的一部分生成的表对象，该对象是通过将字符串分配给`DeclarativeBase.__tablename__`属性来命名的。创建了类后，该生成的表将从`DectarativeBase.__Table__`属性中获得。\n",
    "\n",
    "- 如前所述，此表单称为“声明表配置”。有几种可选的声明样式，其中之一就是让我们直接构建 Table 对象，并将其直接分配给 `DeclarativeBase.__table__`这种样式称为带祈使表的声明式。\n",
    "\n",
    "- 要指示表中的列，我们将使用Mapped_column()构造与基于映射类型的键入注释结合使用。该对象将生成应用于表构建的列对象。\n",
    "\n",
    "- 对于具有简单数据类型且没有其他选项的列，我们可以单独指示映射类型注释，使用简单的 Python 类型，如 int 和 str 来表示整数和字符串。 在声明性映射过程中如何解释 Python 类型的自定义是非常开放的； 请参阅使用注释声明表（mapped_column() 的类型注释形式）和为背景自定义类型映射部分。\n",
    "\n",
    "- 使用显式类型注释是完全可选的。 我们也可以使用不带注释的 mapped_column()。 使用这种形式时，我们会根据需要在每个 mapped_column() 构造中使用更明确的类型对象，如 Integer 和 String 以及 nullable=False。\n",
    "\n",
    "- 两个额外的属性 User.address 和 Address.user 定义了一种不同的relationship()属性 ，它具有类似的注释感知配置样式，如图所示。在使用 ORM 相关对象时会更全面地讨relationship()结构。\n",
    "\n",
    "- 如果我们不声明自己的类，则会自动为这些类提供一个 `__init__()` 方法。 此方法的默认形式接受所有属性名称作为可选关键字参数：\n",
    "\n",
    "- 添加`__repr __()`方法，以便我们获得可读的字符串输出；不需要这些方法在这里。与`__init __()`一样，可以使用Dataclasses功能自动生成`__repr __()`方法。\n"
   ]
  },
  {
   "cell_type": "code",
   "execution_count": 14,
   "id": "b9b25a9f-0c33-446f-b571-68eeddc4500d",
   "metadata": {
    "tags": []
   },
   "outputs": [
    {
     "name": "stdout",
     "output_type": "stream",
     "text": [
      "2023-05-31 10:21:48,106 INFO sqlalchemy.engine.Engine BEGIN (implicit)\n",
      "2023-05-31 10:21:48,108 INFO sqlalchemy.engine.Engine PRAGMA main.table_info(\"user_account\")\n",
      "2023-05-31 10:21:48,109 INFO sqlalchemy.engine.Engine [raw sql] ()\n",
      "2023-05-31 10:21:48,112 INFO sqlalchemy.engine.Engine PRAGMA temp.table_info(\"user_account\")\n",
      "2023-05-31 10:21:48,113 INFO sqlalchemy.engine.Engine [raw sql] ()\n",
      "2023-05-31 10:21:48,114 INFO sqlalchemy.engine.Engine PRAGMA main.table_info(\"address\")\n",
      "2023-05-31 10:21:48,116 INFO sqlalchemy.engine.Engine [raw sql] ()\n",
      "2023-05-31 10:21:48,117 INFO sqlalchemy.engine.Engine PRAGMA temp.table_info(\"address\")\n",
      "2023-05-31 10:21:48,118 INFO sqlalchemy.engine.Engine [raw sql] ()\n",
      "2023-05-31 10:21:48,121 INFO sqlalchemy.engine.Engine \n",
      "CREATE TABLE user_account (\n",
      "\tid INTEGER NOT NULL, \n",
      "\tname VARCHAR(30) NOT NULL, \n",
      "\tfullname VARCHAR, \n",
      "\tPRIMARY KEY (id)\n",
      ")\n",
      "\n",
      "\n",
      "2023-05-31 10:21:48,122 INFO sqlalchemy.engine.Engine [no key 0.00098s] ()\n",
      "2023-05-31 10:21:48,124 INFO sqlalchemy.engine.Engine \n",
      "CREATE TABLE address (\n",
      "\tid INTEGER NOT NULL, \n",
      "\temail_address VARCHAR NOT NULL, \n",
      "\tuser_id INTEGER, \n",
      "\ttest VARCHAR NOT NULL, \n",
      "\tPRIMARY KEY (id), \n",
      "\tFOREIGN KEY(user_id) REFERENCES user_account (id)\n",
      ")\n",
      "\n",
      "\n",
      "2023-05-31 10:21:48,125 INFO sqlalchemy.engine.Engine [no key 0.00135s] ()\n",
      "2023-05-31 10:21:48,127 INFO sqlalchemy.engine.Engine COMMIT\n"
     ]
    }
   ],
   "source": [
    "Base.metadata.create_all(engine)"
   ]
  },
  {
   "cell_type": "markdown",
   "id": "3152d8fd-8ef5-4f33-8126-c0853ecceb2f",
   "metadata": {},
   "source": [
    "## Table Reflection - 反射\n",
    "\n",
    "从数据库表加载 Python SQLAlchemy 表对象。\n"
   ]
  },
  {
   "cell_type": "code",
   "execution_count": 17,
   "id": "cc2be461-ba54-4dc8-8786-a4d2d2bc2d17",
   "metadata": {
    "tags": []
   },
   "outputs": [
    {
     "data": {
      "text/plain": [
       "Table('user_account', MetaData(), Column('id', Integer(), table=<user_account>, primary_key=True, nullable=False), Column('name', String(length=30), table=<user_account>), Column('fullname', String(), table=<user_account>), schema=None)"
      ]
     },
     "execution_count": 17,
     "metadata": {},
     "output_type": "execute_result"
    }
   ],
   "source": [
    "user_account = Table(\"user_account\", metadata_obj, autoload_with=engine)\n",
    "user_account"
   ]
  },
  {
   "cell_type": "code",
   "execution_count": null,
   "id": "a5ecdaa7-8a03-436c-8d45-0b6c0133299f",
   "metadata": {},
   "outputs": [],
   "source": []
  }
 ],
 "metadata": {
  "kernelspec": {
   "display_name": "Python 3 (ipykernel)",
   "language": "python",
   "name": "python3"
  },
  "language_info": {
   "codemirror_mode": {
    "name": "ipython",
    "version": 3
   },
   "file_extension": ".py",
   "mimetype": "text/x-python",
   "name": "python",
   "nbconvert_exporter": "python",
   "pygments_lexer": "ipython3",
   "version": "3.10.4"
  }
 },
 "nbformat": 4,
 "nbformat_minor": 5
}
